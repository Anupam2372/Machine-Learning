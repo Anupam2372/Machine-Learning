{
 "cells": [
  {
   "cell_type": "code",
   "execution_count": 1,
   "id": "945bdaa8-223c-403c-afbb-0a9c4c24f146",
   "metadata": {},
   "outputs": [],
   "source": [
    "import numpy as np\n",
    "import pandas as pd\n",
    "import matplotlib.pyplot as plt\n",
    "import seaborn as sns"
   ]
  },
  {
   "cell_type": "code",
   "execution_count": 2,
   "id": "edfc40e2-c2a1-4d52-b5e1-b66a00fcedce",
   "metadata": {},
   "outputs": [],
   "source": [
    "# load fake regression data\n",
    "df = pd.read_csv('../DATA/fake_reg.csv')"
   ]
  },
  {
   "cell_type": "code",
   "execution_count": 3,
   "id": "6965d458-a23f-4fec-a1f0-bba5e0a483e2",
   "metadata": {},
   "outputs": [
    {
     "data": {
      "text/html": [
       "<div>\n",
       "<style scoped>\n",
       "    .dataframe tbody tr th:only-of-type {\n",
       "        vertical-align: middle;\n",
       "    }\n",
       "\n",
       "    .dataframe tbody tr th {\n",
       "        vertical-align: top;\n",
       "    }\n",
       "\n",
       "    .dataframe thead th {\n",
       "        text-align: right;\n",
       "    }\n",
       "</style>\n",
       "<table border=\"1\" class=\"dataframe\">\n",
       "  <thead>\n",
       "    <tr style=\"text-align: right;\">\n",
       "      <th></th>\n",
       "      <th>price</th>\n",
       "      <th>feature1</th>\n",
       "      <th>feature2</th>\n",
       "    </tr>\n",
       "  </thead>\n",
       "  <tbody>\n",
       "    <tr>\n",
       "      <th>0</th>\n",
       "      <td>461.527929</td>\n",
       "      <td>999.787558</td>\n",
       "      <td>999.766096</td>\n",
       "    </tr>\n",
       "    <tr>\n",
       "      <th>1</th>\n",
       "      <td>548.130011</td>\n",
       "      <td>998.861615</td>\n",
       "      <td>1001.042403</td>\n",
       "    </tr>\n",
       "    <tr>\n",
       "      <th>2</th>\n",
       "      <td>410.297162</td>\n",
       "      <td>1000.070267</td>\n",
       "      <td>998.844015</td>\n",
       "    </tr>\n",
       "    <tr>\n",
       "      <th>3</th>\n",
       "      <td>540.382220</td>\n",
       "      <td>999.952251</td>\n",
       "      <td>1000.440940</td>\n",
       "    </tr>\n",
       "    <tr>\n",
       "      <th>4</th>\n",
       "      <td>546.024553</td>\n",
       "      <td>1000.446011</td>\n",
       "      <td>1000.338531</td>\n",
       "    </tr>\n",
       "  </tbody>\n",
       "</table>\n",
       "</div>"
      ],
      "text/plain": [
       "        price     feature1     feature2\n",
       "0  461.527929   999.787558   999.766096\n",
       "1  548.130011   998.861615  1001.042403\n",
       "2  410.297162  1000.070267   998.844015\n",
       "3  540.382220   999.952251  1000.440940\n",
       "4  546.024553  1000.446011  1000.338531"
      ]
     },
     "execution_count": 3,
     "metadata": {},
     "output_type": "execute_result"
    }
   ],
   "source": [
    "df.head()"
   ]
  },
  {
   "cell_type": "code",
   "execution_count": 4,
   "id": "97e05644-0245-4fc2-b15c-d3b636a13f19",
   "metadata": {},
   "outputs": [
    {
     "data": {
      "text/html": [
       "<div>\n",
       "<style scoped>\n",
       "    .dataframe tbody tr th:only-of-type {\n",
       "        vertical-align: middle;\n",
       "    }\n",
       "\n",
       "    .dataframe tbody tr th {\n",
       "        vertical-align: top;\n",
       "    }\n",
       "\n",
       "    .dataframe thead th {\n",
       "        text-align: right;\n",
       "    }\n",
       "</style>\n",
       "<table border=\"1\" class=\"dataframe\">\n",
       "  <thead>\n",
       "    <tr style=\"text-align: right;\">\n",
       "      <th></th>\n",
       "      <th>price</th>\n",
       "      <th>feature1</th>\n",
       "      <th>feature2</th>\n",
       "    </tr>\n",
       "  </thead>\n",
       "  <tbody>\n",
       "    <tr>\n",
       "      <th>count</th>\n",
       "      <td>1000.000000</td>\n",
       "      <td>1000.000000</td>\n",
       "      <td>1000.000000</td>\n",
       "    </tr>\n",
       "    <tr>\n",
       "      <th>mean</th>\n",
       "      <td>498.673029</td>\n",
       "      <td>1000.014171</td>\n",
       "      <td>999.979847</td>\n",
       "    </tr>\n",
       "    <tr>\n",
       "      <th>std</th>\n",
       "      <td>93.785431</td>\n",
       "      <td>0.974018</td>\n",
       "      <td>0.948330</td>\n",
       "    </tr>\n",
       "    <tr>\n",
       "      <th>min</th>\n",
       "      <td>223.346793</td>\n",
       "      <td>997.058347</td>\n",
       "      <td>996.995651</td>\n",
       "    </tr>\n",
       "    <tr>\n",
       "      <th>25%</th>\n",
       "      <td>433.025732</td>\n",
       "      <td>999.332068</td>\n",
       "      <td>999.316106</td>\n",
       "    </tr>\n",
       "    <tr>\n",
       "      <th>50%</th>\n",
       "      <td>502.382117</td>\n",
       "      <td>1000.009915</td>\n",
       "      <td>1000.002243</td>\n",
       "    </tr>\n",
       "    <tr>\n",
       "      <th>75%</th>\n",
       "      <td>564.921588</td>\n",
       "      <td>1000.637580</td>\n",
       "      <td>1000.645380</td>\n",
       "    </tr>\n",
       "    <tr>\n",
       "      <th>max</th>\n",
       "      <td>774.407854</td>\n",
       "      <td>1003.207934</td>\n",
       "      <td>1002.666308</td>\n",
       "    </tr>\n",
       "  </tbody>\n",
       "</table>\n",
       "</div>"
      ],
      "text/plain": [
       "             price     feature1     feature2\n",
       "count  1000.000000  1000.000000  1000.000000\n",
       "mean    498.673029  1000.014171   999.979847\n",
       "std      93.785431     0.974018     0.948330\n",
       "min     223.346793   997.058347   996.995651\n",
       "25%     433.025732   999.332068   999.316106\n",
       "50%     502.382117  1000.009915  1000.002243\n",
       "75%     564.921588  1000.637580  1000.645380\n",
       "max     774.407854  1003.207934  1002.666308"
      ]
     },
     "execution_count": 4,
     "metadata": {},
     "output_type": "execute_result"
    }
   ],
   "source": [
    "df.describe()"
   ]
  },
  {
   "cell_type": "code",
   "execution_count": 5,
   "id": "aa6e2ae1-200a-4ea2-9e95-e7fb04b09cea",
   "metadata": {},
   "outputs": [
    {
     "data": {
      "text/plain": [
       "<seaborn.axisgrid.PairGrid at 0x7fa25f681a60>"
      ]
     },
     "execution_count": 5,
     "metadata": {},
     "output_type": "execute_result"
    },
    {
     "data": {
      "text/plain": [
       "<Figure size 864x576 with 0 Axes>"
      ]
     },
     "metadata": {},
     "output_type": "display_data"
    },
    {
     "data": {
      "image/png": "[encoded data removed]",
      "text/plain": [
       "<Figure size 540x540 with 12 Axes>"
      ]
     },
     "metadata": {
      "needs_background": "light"
     },
     "output_type": "display_data"
    }
   ],
   "source": [
    "# pairplot to see the correlation\n",
    "plt.figure(figsize=(12,8))\n",
    "sns.pairplot(df)"
   ]
  },
  {
   "cell_type": "code",
   "execution_count": 6,
   "id": "1d3be78b-e67a-41c4-9fbd-4cb7ecb4223d",
   "metadata": {},
   "outputs": [
    {
     "data": {
      "text/plain": [
       "<AxesSubplot:>"
      ]
     },
     "execution_count": 6,
     "metadata": {},
     "output_type": "execute_result"
    },
    {
     "data": {
      "image/png": "[encoded data removed]",
      "text/plain": [
       "<Figure size 864x576 with 2 Axes>"
      ]
     },
     "metadata": {
      "needs_background": "light"
     },
     "output_type": "display_data"
    }
   ],
   "source": [
    "# plot the correlation via heatmap \n",
    "plt.figure(figsize=(12,8))\n",
    "sns.heatmap(df.corr())"
   ]
  },
  {
   "cell_type": "markdown",
   "id": "e411dc09-4e75-497e-8bbc-34fb8f5b420f",
   "metadata": {},
   "source": [
    "##### feature2 has high correlation with price"
   ]
  },
  {
   "cell_type": "code",
   "execution_count": 7,
   "id": "94220aeb-8e19-4c4f-8625-ed146acaaa22",
   "metadata": {},
   "outputs": [],
   "source": [
    "X = df.drop(['price'], axis=1)\n",
    "y = df['price']"
   ]
  },
  {
   "cell_type": "code",
   "execution_count": 8,
   "id": "ccb3870a-2f50-4e3f-a6ef-3e78d6d80e7f",
   "metadata": {},
   "outputs": [],
   "source": [
    "# X.shape\n",
    "# y.shape"
   ]
  },
  {
   "cell_type": "code",
   "execution_count": 9,
   "id": "1f1a5ed3-dc1a-4542-9c21-f1ce71f51553",
   "metadata": {},
   "outputs": [],
   "source": [
    "# train-test split\n",
    "from sklearn.model_selection import train_test_split\n",
    "\n",
    "X_train, X_test, y_train, y_test = train_test_split(X, y, test_size=0.3, random_state=42)"
   ]
  },
  {
   "cell_type": "code",
   "execution_count": 10,
   "id": "7ab6292c-6988-4574-94dc-9732a35d8d9e",
   "metadata": {},
   "outputs": [
    {
     "data": {
      "text/plain": [
       "(700, 2)"
      ]
     },
     "execution_count": 10,
     "metadata": {},
     "output_type": "execute_result"
    }
   ],
   "source": [
    "X_train.shape"
   ]
  },
  {
   "cell_type": "code",
   "execution_count": 11,
   "id": "d1f58969-fc34-493c-93d8-68529c1e6fff",
   "metadata": {},
   "outputs": [
    {
     "data": {
      "text/plain": [
       "(300, 2)"
      ]
     },
     "execution_count": 11,
     "metadata": {},
     "output_type": "execute_result"
    }
   ],
   "source": [
    "X_test.shape"
   ]
  },
  {
   "cell_type": "code",
   "execution_count": 12,
   "id": "1398b6db-547d-4e15-837f-0c30c92a8be2",
   "metadata": {},
   "outputs": [
    {
     "data": {
      "text/plain": [
       "(700,)"
      ]
     },
     "execution_count": 12,
     "metadata": {},
     "output_type": "execute_result"
    }
   ],
   "source": [
    "y_train.shape"
   ]
  },
  {
   "cell_type": "code",
   "execution_count": 13,
   "id": "5393d181-0b74-40ff-b91b-0201e3e796f4",
   "metadata": {},
   "outputs": [
    {
     "data": {
      "text/plain": [
       "(300,)"
      ]
     },
     "execution_count": 13,
     "metadata": {},
     "output_type": "execute_result"
    }
   ],
   "source": [
    "y_test.shape"
   ]
  },
  {
   "cell_type": "code",
   "execution_count": 14,
   "id": "5f49b6cb-02d4-47ae-b6a5-aad73a3c42e6",
   "metadata": {},
   "outputs": [],
   "source": [
    "# Scaling and normalization of training \n",
    "\n",
    "from sklearn.preprocessing import MinMaxScaler\n",
    "\n",
    "scaler = MinMaxScaler()"
   ]
  },
  {
   "cell_type": "code",
   "execution_count": 15,
   "id": "c3cf6cd7-4a85-42a4-9187-bfc40089dfd9",
   "metadata": {},
   "outputs": [],
   "source": [
    "# only fit to training data not to test data to avoid data leakage\n",
    "X_train = scaler.fit_transform(X_train.values)\n",
    "X_test = scaler.transform(X_test.values)"
   ]
  },
  {
   "cell_type": "code",
   "execution_count": 16,
   "id": "0220d78b-217f-4cd9-a989-17c522fa80bc",
   "metadata": {},
   "outputs": [],
   "source": [
    "# Buliding Artificial Neural Network (ANN) model \n",
    "\n",
    "import tensorflow as tf\n",
    "from tensorflow.keras.models import Sequential\n",
    "from tensorflow.keras.layers import Dense, Activation"
   ]
  },
  {
   "cell_type": "code",
   "execution_count": 17,
   "id": "2d136e9a-ca26-40fc-886d-e1df171f2ae7",
   "metadata": {},
   "outputs": [
    {
     "name": "stderr",
     "output_type": "stream",
     "text": [
      "2023-03-27 11:13:22.062450: I tensorflow/core/platform/cpu_feature_guard.cc:151] This TensorFlow binary is optimized with oneAPI Deep Neural Network Library (oneDNN) to use the following CPU instructions in performance-critical operations:  AVX2 FMA\n",
      "To enable them in other operations, rebuild TensorFlow with the appropriate compiler flags.\n"
     ]
    }
   ],
   "source": [
    "# building sequential neural-network model\n",
    "\n",
    "model = Sequential()\n",
    "\n",
    "model.add(Dense(4, activation='relu'))\n",
    "model.add(Dense(4, activation='relu'))\n",
    "model.add(Dense(4, activation='relu'))\n",
    "\n",
    "# final output network\n",
    "model.add(Dense(1))\n",
    "\n",
    "#compile\n",
    "model.compile(optimizer='rmsprop', loss='mse')"
   ]
  },
  {
   "cell_type": "code",
   "execution_count": 18,
   "id": "0963d8cb-0ed3-49c6-ac75-861d9dffe7ac",
   "metadata": {},
   "outputs": [
    {
     "name": "stdout",
     "output_type": "stream",
     "text": [
      "Epoch 1/300\n",
      "22/22 [==============================] - 0s 679us/step - loss: 256651.8906\n",
      "Epoch 2/300\n",
      "22/22 [==============================] - 0s 665us/step - loss: 256552.1094\n",
      "Epoch 3/300\n",
      "22/22 [==============================] - 0s 617us/step - loss: 256449.9688\n",
      "Epoch 4/300\n",
      "22/22 [==============================] - 0s 656us/step - loss: 256337.9219\n",
      "Epoch 5/300\n",
      "22/22 [==============================] - 0s 618us/step - loss: 256215.4531\n",
      "Epoch 6/300\n",
      "22/22 [==============================] - 0s 621us/step - loss: 256080.1562\n",
      "Epoch 7/300\n",
      "22/22 [==============================] - 0s 704us/step - loss: 255933.2969\n",
      "Epoch 8/300\n",
      "22/22 [==============================] - 0s 598us/step - loss: 255773.1250\n",
      "Epoch 9/300\n",
      "22/22 [==============================] - 0s 629us/step - loss: 255597.9219\n",
      "Epoch 10/300\n",
      "22/22 [==============================] - 0s 645us/step - loss: 255407.5000\n",
      "Epoch 11/300\n",
      "22/22 [==============================] - 0s 664us/step - loss: 255202.9531\n",
      "Epoch 12/300\n",
      "22/22 [==============================] - 0s 636us/step - loss: 254981.6719\n",
      "Epoch 13/300\n",
      "22/22 [==============================] - 0s 656us/step - loss: 254743.4219\n",
      "Epoch 14/300\n",
      "22/22 [==============================] - 0s 653us/step - loss: 254487.5625\n",
      "Epoch 15/300\n",
      "22/22 [==============================] - 0s 636us/step - loss: 254211.9062\n",
      "Epoch 16/300\n",
      "22/22 [==============================] - 0s 749us/step - loss: 253916.1562\n",
      "Epoch 17/300\n",
      "22/22 [==============================] - 0s 690us/step - loss: 253599.4688\n",
      "Epoch 18/300\n",
      "22/22 [==============================] - 0s 633us/step - loss: 253259.9531\n",
      "Epoch 19/300\n",
      "22/22 [==============================] - 0s 718us/step - loss: 252898.6250\n",
      "Epoch 20/300\n",
      "22/22 [==============================] - 0s 695us/step - loss: 252513.6875\n",
      "Epoch 21/300\n",
      "22/22 [==============================] - 0s 693us/step - loss: 252104.1094\n",
      "Epoch 22/300\n",
      "22/22 [==============================] - 0s 693us/step - loss: 251667.9062\n",
      "Epoch 23/300\n",
      "22/22 [==============================] - 0s 668us/step - loss: 251206.8281\n",
      "Epoch 24/300\n",
      "22/22 [==============================] - 0s 720us/step - loss: 250715.7031\n",
      "Epoch 25/300\n",
      "22/22 [==============================] - 0s 711us/step - loss: 250196.2031\n",
      "Epoch 26/300\n",
      "22/22 [==============================] - 0s 636us/step - loss: 249645.6250\n",
      "Epoch 27/300\n",
      "22/22 [==============================] - 0s 633us/step - loss: 249064.8906\n",
      "Epoch 28/300\n",
      "22/22 [==============================] - 0s 660us/step - loss: 248451.2031\n",
      "Epoch 29/300\n",
      "22/22 [==============================] - 0s 693us/step - loss: 247803.9844\n",
      "Epoch 30/300\n",
      "22/22 [==============================] - 0s 667us/step - loss: 247122.1875\n",
      "Epoch 31/300\n",
      "22/22 [==============================] - 0s 648us/step - loss: 246404.5000\n",
      "Epoch 32/300\n",
      "22/22 [==============================] - 0s 657us/step - loss: 245651.5938\n",
      "Epoch 33/300\n",
      "22/22 [==============================] - 0s 644us/step - loss: 244862.2656\n",
      "Epoch 34/300\n",
      "22/22 [==============================] - 0s 616us/step - loss: 244034.9062\n",
      "Epoch 35/300\n",
      "22/22 [==============================] - 0s 672us/step - loss: 243163.2656\n",
      "Epoch 36/300\n",
      "22/22 [==============================] - 0s 692us/step - loss: 242248.7812\n",
      "Epoch 37/300\n",
      "22/22 [==============================] - 0s 636us/step - loss: 241294.6719\n",
      "Epoch 38/300\n",
      "22/22 [==============================] - 0s 705us/step - loss: 240295.1250\n",
      "Epoch 39/300\n",
      "22/22 [==============================] - 0s 653us/step - loss: 239251.6094\n",
      "Epoch 40/300\n",
      "22/22 [==============================] - 0s 664us/step - loss: 238162.8125\n",
      "Epoch 41/300\n",
      "22/22 [==============================] - 0s 674us/step - loss: 237027.8438\n",
      "Epoch 42/300\n",
      "22/22 [==============================] - 0s 705us/step - loss: 235839.4219\n",
      "Epoch 43/300\n",
      "22/22 [==============================] - 0s 636us/step - loss: 234609.1719\n",
      "Epoch 44/300\n",
      "22/22 [==============================] - 0s 862us/step - loss: 233334.4219\n",
      "Epoch 45/300\n",
      "22/22 [==============================] - 0s 681us/step - loss: 232002.8281\n",
      "Epoch 46/300\n",
      "22/22 [==============================] - 0s 648us/step - loss: 230611.6406\n",
      "Epoch 47/300\n",
      "22/22 [==============================] - 0s 712us/step - loss: 229167.6406\n",
      "Epoch 48/300\n",
      "22/22 [==============================] - 0s 668us/step - loss: 227671.1562\n",
      "Epoch 49/300\n",
      "22/22 [==============================] - 0s 628us/step - loss: 226114.0781\n",
      "Epoch 50/300\n",
      "22/22 [==============================] - 0s 629us/step - loss: 224509.5938\n",
      "Epoch 51/300\n",
      "22/22 [==============================] - 0s 697us/step - loss: 222848.2031\n",
      "Epoch 52/300\n",
      "22/22 [==============================] - 0s 622us/step - loss: 221128.0469\n",
      "Epoch 53/300\n",
      "22/22 [==============================] - 0s 663us/step - loss: 219335.3594\n",
      "Epoch 54/300\n",
      "22/22 [==============================] - 0s 586us/step - loss: 217479.9062\n",
      "Epoch 55/300\n",
      "22/22 [==============================] - 0s 615us/step - loss: 215588.3438\n",
      "Epoch 56/300\n",
      "22/22 [==============================] - 0s 580us/step - loss: 213619.4062\n",
      "Epoch 57/300\n",
      "22/22 [==============================] - 0s 622us/step - loss: 211594.6094\n",
      "Epoch 58/300\n",
      "22/22 [==============================] - 0s 598us/step - loss: 209507.0781\n",
      "Epoch 59/300\n",
      "22/22 [==============================] - 0s 587us/step - loss: 207344.5312\n",
      "Epoch 60/300\n",
      "22/22 [==============================] - 0s 600us/step - loss: 205114.7500\n",
      "Epoch 61/300\n",
      "22/22 [==============================] - 0s 592us/step - loss: 202835.9375\n",
      "Epoch 62/300\n",
      "22/22 [==============================] - 0s 618us/step - loss: 200484.5781\n",
      "Epoch 63/300\n",
      "22/22 [==============================] - 0s 608us/step - loss: 198068.6406\n",
      "Epoch 64/300\n",
      "22/22 [==============================] - 0s 685us/step - loss: 195585.2344\n",
      "Epoch 65/300\n",
      "22/22 [==============================] - 0s 900us/step - loss: 193038.9062\n",
      "Epoch 66/300\n",
      "22/22 [==============================] - 0s 633us/step - loss: 190424.5781\n",
      "Epoch 67/300\n",
      "22/22 [==============================] - 0s 584us/step - loss: 187736.8906\n",
      "Epoch 68/300\n",
      "22/22 [==============================] - 0s 646us/step - loss: 184996.6250\n",
      "Epoch 69/300\n",
      "22/22 [==============================] - 0s 585us/step - loss: 182177.9531\n",
      "Epoch 70/300\n",
      "22/22 [==============================] - 0s 620us/step - loss: 179302.7500\n",
      "Epoch 71/300\n",
      "22/22 [==============================] - 0s 619us/step - loss: 176358.4531\n",
      "Epoch 72/300\n",
      "22/22 [==============================] - 0s 603us/step - loss: 173344.5938\n",
      "Epoch 73/300\n",
      "22/22 [==============================] - 0s 697us/step - loss: 170273.9844\n",
      "Epoch 74/300\n",
      "22/22 [==============================] - 0s 654us/step - loss: 167121.7969\n",
      "Epoch 75/300\n",
      "22/22 [==============================] - 0s 764us/step - loss: 163908.6562\n",
      "Epoch 76/300\n",
      "22/22 [==============================] - 0s 752us/step - loss: 160654.1094\n",
      "Epoch 77/300\n",
      "22/22 [==============================] - 0s 679us/step - loss: 157336.5312\n",
      "Epoch 78/300\n",
      "22/22 [==============================] - 0s 688us/step - loss: 153941.9844\n",
      "Epoch 79/300\n",
      "22/22 [==============================] - 0s 653us/step - loss: 150515.8594\n",
      "Epoch 80/300\n",
      "22/22 [==============================] - 0s 649us/step - loss: 147005.4844\n",
      "Epoch 81/300\n",
      "22/22 [==============================] - 0s 691us/step - loss: 143449.4531\n",
      "Epoch 82/300\n",
      "22/22 [==============================] - 0s 724us/step - loss: 139850.3125\n",
      "Epoch 83/300\n",
      "22/22 [==============================] - 0s 589us/step - loss: 136181.3438\n",
      "Epoch 84/300\n",
      "22/22 [==============================] - 0s 699us/step - loss: 132498.5312\n",
      "Epoch 85/300\n",
      "22/22 [==============================] - 0s 656us/step - loss: 128739.6250\n",
      "Epoch 86/300\n",
      "22/22 [==============================] - 0s 606us/step - loss: 124963.2109\n",
      "Epoch 87/300\n",
      "22/22 [==============================] - 0s 663us/step - loss: 121136.1953\n",
      "Epoch 88/300\n",
      "22/22 [==============================] - 0s 801us/step - loss: 117251.3516\n",
      "Epoch 89/300\n",
      "22/22 [==============================] - 0s 695us/step - loss: 113327.0078\n",
      "Epoch 90/300\n",
      "22/22 [==============================] - 0s 684us/step - loss: 109390.8359\n",
      "Epoch 91/300\n",
      "22/22 [==============================] - 0s 773us/step - loss: 105425.3359\n",
      "Epoch 92/300\n",
      "22/22 [==============================] - 0s 763us/step - loss: 101433.7109\n",
      "Epoch 93/300\n",
      "22/22 [==============================] - 0s 672us/step - loss: 97434.3750\n",
      "Epoch 94/300\n",
      "22/22 [==============================] - 0s 773us/step - loss: 93425.4844\n",
      "Epoch 95/300\n",
      "22/22 [==============================] - 0s 730us/step - loss: 89407.6797\n",
      "Epoch 96/300\n",
      "22/22 [==============================] - 0s 723us/step - loss: 85364.4219\n",
      "Epoch 97/300\n",
      "22/22 [==============================] - 0s 768us/step - loss: 81314.9141\n",
      "Epoch 98/300\n",
      "22/22 [==============================] - 0s 749us/step - loss: 77311.5703\n",
      "Epoch 99/300\n",
      "22/22 [==============================] - 0s 758us/step - loss: 73306.6484\n",
      "Epoch 100/300\n",
      "22/22 [==============================] - 0s 638us/step - loss: 69322.4297\n",
      "Epoch 101/300\n",
      "22/22 [==============================] - 0s 670us/step - loss: 65360.9766\n",
      "Epoch 102/300\n",
      "22/22 [==============================] - 0s 660us/step - loss: 61440.6641\n",
      "Epoch 103/300\n",
      "22/22 [==============================] - 0s 620us/step - loss: 57565.6406\n",
      "Epoch 104/300\n",
      "22/22 [==============================] - 0s 622us/step - loss: 53711.9297\n",
      "Epoch 105/300\n",
      "22/22 [==============================] - 0s 605us/step - loss: 49955.6172\n",
      "Epoch 106/300\n",
      "22/22 [==============================] - 0s 657us/step - loss: 46233.4883\n",
      "Epoch 107/300\n",
      "22/22 [==============================] - 0s 729us/step - loss: 42618.5898\n",
      "Epoch 108/300\n",
      "22/22 [==============================] - 0s 666us/step - loss: 39066.8672\n",
      "Epoch 109/300\n",
      "22/22 [==============================] - 0s 695us/step - loss: 35599.2812\n",
      "Epoch 110/300\n",
      "22/22 [==============================] - 0s 765us/step - loss: 32246.0078\n",
      "Epoch 111/300\n",
      "22/22 [==============================] - 0s 724us/step - loss: 29011.5117\n",
      "Epoch 112/300\n",
      "22/22 [==============================] - 0s 726us/step - loss: 25913.5117\n",
      "Epoch 113/300\n",
      "22/22 [==============================] - 0s 683us/step - loss: 22963.6738\n",
      "Epoch 114/300\n",
      "22/22 [==============================] - 0s 735us/step - loss: 20150.3496\n",
      "Epoch 115/300\n",
      "22/22 [==============================] - 0s 681us/step - loss: 17475.5898\n",
      "Epoch 116/300\n",
      "22/22 [==============================] - 0s 698us/step - loss: 15011.5625\n",
      "Epoch 117/300\n",
      "22/22 [==============================] - 0s 656us/step - loss: 12731.5742\n",
      "Epoch 118/300\n",
      "22/22 [==============================] - 0s 762us/step - loss: 10637.5225\n",
      "Epoch 119/300\n",
      "22/22 [==============================] - 0s 608us/step - loss: 8745.2637\n",
      "Epoch 120/300\n",
      "22/22 [==============================] - 0s 624us/step - loss: 7069.6802\n",
      "Epoch 121/300\n",
      "22/22 [==============================] - 0s 747us/step - loss: 5666.1816\n",
      "Epoch 122/300\n",
      "22/22 [==============================] - 0s 636us/step - loss: 4486.9844\n",
      "Epoch 123/300\n",
      "22/22 [==============================] - 0s 580us/step - loss: 3552.1885\n",
      "Epoch 124/300\n",
      "22/22 [==============================] - 0s 619us/step - loss: 2866.9302\n",
      "Epoch 125/300\n",
      "22/22 [==============================] - 0s 597us/step - loss: 2462.7498\n",
      "Epoch 126/300\n",
      "22/22 [==============================] - 0s 565us/step - loss: 2257.3586\n",
      "Epoch 127/300\n",
      "22/22 [==============================] - 0s 641us/step - loss: 2181.2864\n",
      "Epoch 128/300\n",
      "22/22 [==============================] - 0s 588us/step - loss: 2154.7754\n",
      "Epoch 129/300\n",
      "22/22 [==============================] - 0s 721us/step - loss: 2130.0652\n",
      "Epoch 130/300\n",
      "22/22 [==============================] - 0s 663us/step - loss: 2109.0430\n",
      "Epoch 131/300\n",
      "22/22 [==============================] - 0s 755us/step - loss: 2088.8850\n",
      "Epoch 132/300\n",
      "22/22 [==============================] - 0s 617us/step - loss: 2067.0544\n",
      "Epoch 133/300\n",
      "22/22 [==============================] - 0s 671us/step - loss: 2047.4160\n",
      "Epoch 134/300\n",
      "22/22 [==============================] - 0s 599us/step - loss: 2023.7582\n",
      "Epoch 135/300\n",
      "22/22 [==============================] - 0s 677us/step - loss: 2000.5823\n",
      "Epoch 136/300\n",
      "22/22 [==============================] - 0s 580us/step - loss: 1978.4282\n",
      "Epoch 137/300\n",
      "22/22 [==============================] - 0s 581us/step - loss: 1958.8488\n",
      "Epoch 138/300\n",
      "22/22 [==============================] - 0s 719us/step - loss: 1940.5051\n",
      "Epoch 139/300\n",
      "22/22 [==============================] - 0s 754us/step - loss: 1917.6493\n",
      "Epoch 140/300\n",
      "22/22 [==============================] - 0s 791us/step - loss: 1900.3881\n",
      "Epoch 141/300\n",
      "22/22 [==============================] - 0s 861us/step - loss: 1880.2697\n",
      "Epoch 142/300\n",
      "22/22 [==============================] - 0s 844us/step - loss: 1858.5873\n",
      "Epoch 143/300\n",
      "22/22 [==============================] - 0s 648us/step - loss: 1835.0486\n",
      "Epoch 144/300\n",
      "22/22 [==============================] - 0s 679us/step - loss: 1813.6401\n",
      "Epoch 145/300\n",
      "22/22 [==============================] - 0s 618us/step - loss: 1792.5038\n",
      "Epoch 146/300\n",
      "22/22 [==============================] - 0s 554us/step - loss: 1771.4978\n",
      "Epoch 147/300\n",
      "22/22 [==============================] - 0s 664us/step - loss: 1753.4062\n",
      "Epoch 148/300\n",
      "22/22 [==============================] - 0s 557us/step - loss: 1731.5693\n",
      "Epoch 149/300\n",
      "22/22 [==============================] - 0s 687us/step - loss: 1711.3622\n",
      "Epoch 150/300\n",
      "22/22 [==============================] - 0s 659us/step - loss: 1690.3866\n",
      "Epoch 151/300\n",
      "22/22 [==============================] - 0s 617us/step - loss: 1668.0139\n",
      "Epoch 152/300\n",
      "22/22 [==============================] - 0s 632us/step - loss: 1646.9972\n",
      "Epoch 153/300\n",
      "22/22 [==============================] - 0s 812us/step - loss: 1625.6145\n",
      "Epoch 154/300\n",
      "22/22 [==============================] - 0s 634us/step - loss: 1604.6255\n",
      "Epoch 155/300\n",
      "22/22 [==============================] - 0s 629us/step - loss: 1583.3500\n",
      "Epoch 156/300\n",
      "22/22 [==============================] - 0s 605us/step - loss: 1566.8564\n",
      "Epoch 157/300\n",
      "22/22 [==============================] - 0s 608us/step - loss: 1545.3828\n",
      "Epoch 158/300\n",
      "22/22 [==============================] - 0s 586us/step - loss: 1525.1370\n",
      "Epoch 159/300\n",
      "22/22 [==============================] - 0s 939us/step - loss: 1504.8649\n",
      "Epoch 160/300\n",
      "22/22 [==============================] - 0s 652us/step - loss: 1483.5757\n",
      "Epoch 161/300\n",
      "22/22 [==============================] - 0s 582us/step - loss: 1467.5939\n",
      "Epoch 162/300\n",
      "22/22 [==============================] - 0s 706us/step - loss: 1447.7004\n",
      "Epoch 163/300\n",
      "22/22 [==============================] - 0s 649us/step - loss: 1427.3264\n",
      "Epoch 164/300\n",
      "22/22 [==============================] - 0s 683us/step - loss: 1407.3365\n",
      "Epoch 165/300\n",
      "22/22 [==============================] - 0s 654us/step - loss: 1386.3746\n",
      "Epoch 166/300\n",
      "22/22 [==============================] - 0s 596us/step - loss: 1367.4626\n",
      "Epoch 167/300\n",
      "22/22 [==============================] - 0s 678us/step - loss: 1348.4700\n",
      "Epoch 168/300\n",
      "22/22 [==============================] - 0s 630us/step - loss: 1327.8308\n",
      "Epoch 169/300\n",
      "22/22 [==============================] - 0s 630us/step - loss: 1310.4237\n",
      "Epoch 170/300\n",
      "22/22 [==============================] - 0s 594us/step - loss: 1290.1235\n",
      "Epoch 171/300\n",
      "22/22 [==============================] - 0s 593us/step - loss: 1269.8345\n",
      "Epoch 172/300\n",
      "22/22 [==============================] - 0s 567us/step - loss: 1250.0840\n",
      "Epoch 173/300\n",
      "22/22 [==============================] - 0s 571us/step - loss: 1228.1620\n",
      "Epoch 174/300\n",
      "22/22 [==============================] - 0s 588us/step - loss: 1211.3018\n",
      "Epoch 175/300\n",
      "22/22 [==============================] - 0s 607us/step - loss: 1191.3948\n",
      "Epoch 176/300\n",
      "22/22 [==============================] - 0s 694us/step - loss: 1172.3127\n",
      "Epoch 177/300\n",
      "22/22 [==============================] - 0s 617us/step - loss: 1152.1251\n",
      "Epoch 178/300\n",
      "22/22 [==============================] - 0s 695us/step - loss: 1131.9264\n",
      "Epoch 179/300\n",
      "22/22 [==============================] - 0s 664us/step - loss: 1113.6874\n",
      "Epoch 180/300\n",
      "22/22 [==============================] - 0s 803us/step - loss: 1094.8093\n",
      "Epoch 181/300\n",
      "22/22 [==============================] - 0s 674us/step - loss: 1075.6353\n",
      "Epoch 182/300\n",
      "22/22 [==============================] - 0s 668us/step - loss: 1052.7621\n",
      "Epoch 183/300\n",
      "22/22 [==============================] - 0s 645us/step - loss: 1033.2544\n",
      "Epoch 184/300\n",
      "22/22 [==============================] - 0s 752us/step - loss: 1015.0501\n",
      "Epoch 185/300\n",
      "22/22 [==============================] - 0s 718us/step - loss: 996.0677\n",
      "Epoch 186/300\n",
      "22/22 [==============================] - 0s 730us/step - loss: 981.9552\n",
      "Epoch 187/300\n",
      "22/22 [==============================] - 0s 686us/step - loss: 963.7074\n",
      "Epoch 188/300\n",
      "22/22 [==============================] - 0s 772us/step - loss: 948.2473\n",
      "Epoch 189/300\n",
      "22/22 [==============================] - 0s 717us/step - loss: 932.3046\n",
      "Epoch 190/300\n",
      "22/22 [==============================] - 0s 678us/step - loss: 916.9380\n",
      "Epoch 191/300\n",
      "22/22 [==============================] - 0s 808us/step - loss: 900.1756\n",
      "Epoch 192/300\n",
      "22/22 [==============================] - 0s 700us/step - loss: 884.8704\n",
      "Epoch 193/300\n",
      "22/22 [==============================] - 0s 776us/step - loss: 868.2026\n",
      "Epoch 194/300\n",
      "22/22 [==============================] - 0s 627us/step - loss: 852.2001\n",
      "Epoch 195/300\n",
      "22/22 [==============================] - 0s 641us/step - loss: 836.8718\n",
      "Epoch 196/300\n",
      "22/22 [==============================] - 0s 727us/step - loss: 818.6938\n",
      "Epoch 197/300\n",
      "22/22 [==============================] - 0s 778us/step - loss: 800.9838\n",
      "Epoch 198/300\n",
      "22/22 [==============================] - 0s 678us/step - loss: 785.0732\n",
      "Epoch 199/300\n",
      "22/22 [==============================] - 0s 615us/step - loss: 767.4166\n",
      "Epoch 200/300\n",
      "22/22 [==============================] - 0s 709us/step - loss: 750.2938\n",
      "Epoch 201/300\n",
      "22/22 [==============================] - 0s 689us/step - loss: 735.1472\n",
      "Epoch 202/300\n",
      "22/22 [==============================] - 0s 749us/step - loss: 720.1731\n",
      "Epoch 203/300\n",
      "22/22 [==============================] - 0s 674us/step - loss: 707.2381\n",
      "Epoch 204/300\n",
      "22/22 [==============================] - 0s 680us/step - loss: 690.7542\n",
      "Epoch 205/300\n",
      "22/22 [==============================] - 0s 819us/step - loss: 677.8214\n",
      "Epoch 206/300\n",
      "22/22 [==============================] - 0s 730us/step - loss: 660.4536\n",
      "Epoch 207/300\n",
      "22/22 [==============================] - 0s 680us/step - loss: 643.0822\n",
      "Epoch 208/300\n",
      "22/22 [==============================] - 0s 709us/step - loss: 626.8895\n",
      "Epoch 209/300\n",
      "22/22 [==============================] - 0s 597us/step - loss: 611.3620\n",
      "Epoch 210/300\n",
      "22/22 [==============================] - 0s 590us/step - loss: 596.8975\n",
      "Epoch 211/300\n",
      "22/22 [==============================] - 0s 664us/step - loss: 582.8380\n",
      "Epoch 212/300\n",
      "22/22 [==============================] - 0s 583us/step - loss: 567.5328\n",
      "Epoch 213/300\n",
      "22/22 [==============================] - 0s 568us/step - loss: 552.1311\n",
      "Epoch 214/300\n",
      "22/22 [==============================] - 0s 602us/step - loss: 538.9675\n",
      "Epoch 215/300\n",
      "22/22 [==============================] - 0s 689us/step - loss: 525.4752\n",
      "Epoch 216/300\n",
      "22/22 [==============================] - 0s 686us/step - loss: 510.0835\n",
      "Epoch 217/300\n",
      "22/22 [==============================] - 0s 700us/step - loss: 497.4486\n",
      "Epoch 218/300\n",
      "22/22 [==============================] - 0s 694us/step - loss: 483.6591\n",
      "Epoch 219/300\n",
      "22/22 [==============================] - 0s 599us/step - loss: 470.7169\n",
      "Epoch 220/300\n",
      "22/22 [==============================] - 0s 658us/step - loss: 457.1522\n",
      "Epoch 221/300\n",
      "22/22 [==============================] - 0s 597us/step - loss: 442.7823\n",
      "Epoch 222/300\n",
      "22/22 [==============================] - 0s 557us/step - loss: 429.9913\n",
      "Epoch 223/300\n",
      "22/22 [==============================] - 0s 608us/step - loss: 418.1841\n",
      "Epoch 224/300\n",
      "22/22 [==============================] - 0s 589us/step - loss: 405.8856\n",
      "Epoch 225/300\n",
      "22/22 [==============================] - 0s 555us/step - loss: 394.8600\n",
      "Epoch 226/300\n",
      "22/22 [==============================] - 0s 879us/step - loss: 382.7785\n",
      "Epoch 227/300\n",
      "22/22 [==============================] - 0s 614us/step - loss: 370.4895\n",
      "Epoch 228/300\n",
      "22/22 [==============================] - 0s 564us/step - loss: 359.7307\n",
      "Epoch 229/300\n",
      "22/22 [==============================] - 0s 612us/step - loss: 348.6734\n",
      "Epoch 230/300\n",
      "22/22 [==============================] - 0s 570us/step - loss: 338.0226\n",
      "Epoch 231/300\n",
      "22/22 [==============================] - 0s 556us/step - loss: 328.6459\n",
      "Epoch 232/300\n",
      "22/22 [==============================] - 0s 635us/step - loss: 319.3589\n",
      "Epoch 233/300\n",
      "22/22 [==============================] - 0s 571us/step - loss: 308.8380\n",
      "Epoch 234/300\n",
      "22/22 [==============================] - 0s 583us/step - loss: 298.1163\n",
      "Epoch 235/300\n",
      "22/22 [==============================] - 0s 677us/step - loss: 289.6980\n",
      "Epoch 236/300\n",
      "22/22 [==============================] - 0s 604us/step - loss: 280.1299\n",
      "Epoch 237/300\n",
      "22/22 [==============================] - 0s 633us/step - loss: 269.9196\n",
      "Epoch 238/300\n",
      "22/22 [==============================] - 0s 628us/step - loss: 259.2936\n",
      "Epoch 239/300\n",
      "22/22 [==============================] - 0s 648us/step - loss: 250.4401\n",
      "Epoch 240/300\n",
      "22/22 [==============================] - 0s 698us/step - loss: 242.2028\n",
      "Epoch 241/300\n",
      "22/22 [==============================] - 0s 676us/step - loss: 231.9131\n",
      "Epoch 242/300\n",
      "22/22 [==============================] - 0s 701us/step - loss: 221.6611\n",
      "Epoch 243/300\n",
      "22/22 [==============================] - 0s 712us/step - loss: 212.6517\n",
      "Epoch 244/300\n",
      "22/22 [==============================] - 0s 734us/step - loss: 202.6911\n",
      "Epoch 245/300\n",
      "22/22 [==============================] - 0s 737us/step - loss: 195.1738\n",
      "Epoch 246/300\n",
      "22/22 [==============================] - 0s 664us/step - loss: 186.8264\n",
      "Epoch 247/300\n",
      "22/22 [==============================] - 0s 680us/step - loss: 178.1118\n",
      "Epoch 248/300\n",
      "22/22 [==============================] - 0s 698us/step - loss: 169.2032\n",
      "Epoch 249/300\n",
      "22/22 [==============================] - 0s 642us/step - loss: 161.5829\n",
      "Epoch 250/300\n",
      "22/22 [==============================] - 0s 626us/step - loss: 154.8012\n",
      "Epoch 251/300\n",
      "22/22 [==============================] - 0s 586us/step - loss: 148.1838\n",
      "Epoch 252/300\n",
      "22/22 [==============================] - 0s 593us/step - loss: 141.2190\n",
      "Epoch 253/300\n",
      "22/22 [==============================] - 0s 712us/step - loss: 134.5428\n",
      "Epoch 254/300\n",
      "22/22 [==============================] - 0s 746us/step - loss: 127.4066\n",
      "Epoch 255/300\n",
      "22/22 [==============================] - 0s 695us/step - loss: 121.2851\n",
      "Epoch 256/300\n",
      "22/22 [==============================] - 0s 693us/step - loss: 115.1130\n",
      "Epoch 257/300\n",
      "22/22 [==============================] - 0s 613us/step - loss: 109.6754\n",
      "Epoch 258/300\n",
      "22/22 [==============================] - 0s 660us/step - loss: 104.0486\n",
      "Epoch 259/300\n",
      "22/22 [==============================] - 0s 777us/step - loss: 97.7555\n",
      "Epoch 260/300\n",
      "22/22 [==============================] - 0s 786us/step - loss: 91.8713\n",
      "Epoch 261/300\n",
      "22/22 [==============================] - 0s 666us/step - loss: 86.6524\n",
      "Epoch 262/300\n",
      "22/22 [==============================] - 0s 577us/step - loss: 82.0233\n",
      "Epoch 263/300\n",
      "22/22 [==============================] - 0s 591us/step - loss: 78.0958\n",
      "Epoch 264/300\n",
      "22/22 [==============================] - 0s 646us/step - loss: 73.2561\n",
      "Epoch 265/300\n",
      "22/22 [==============================] - 0s 636us/step - loss: 69.2112\n",
      "Epoch 266/300\n",
      "22/22 [==============================] - 0s 630us/step - loss: 65.5462\n",
      "Epoch 267/300\n",
      "22/22 [==============================] - 0s 604us/step - loss: 61.2888\n",
      "Epoch 268/300\n",
      "22/22 [==============================] - 0s 642us/step - loss: 58.3320\n",
      "Epoch 269/300\n",
      "22/22 [==============================] - 0s 565us/step - loss: 54.4437\n",
      "Epoch 270/300\n",
      "22/22 [==============================] - 0s 628us/step - loss: 51.5928\n",
      "Epoch 271/300\n",
      "22/22 [==============================] - 0s 674us/step - loss: 48.6761\n",
      "Epoch 272/300\n",
      "22/22 [==============================] - 0s 651us/step - loss: 46.1346\n",
      "Epoch 273/300\n",
      "22/22 [==============================] - 0s 622us/step - loss: 43.7291\n",
      "Epoch 274/300\n",
      "22/22 [==============================] - 0s 600us/step - loss: 41.3359\n",
      "Epoch 275/300\n",
      "22/22 [==============================] - 0s 726us/step - loss: 39.5890\n",
      "Epoch 276/300\n",
      "22/22 [==============================] - 0s 698us/step - loss: 37.8798\n",
      "Epoch 277/300\n",
      "22/22 [==============================] - 0s 625us/step - loss: 36.3256\n",
      "Epoch 278/300\n",
      "22/22 [==============================] - 0s 606us/step - loss: 34.9113\n",
      "Epoch 279/300\n",
      "22/22 [==============================] - 0s 574us/step - loss: 33.5239\n",
      "Epoch 280/300\n",
      "22/22 [==============================] - 0s 571us/step - loss: 32.1292\n",
      "Epoch 281/300\n",
      "22/22 [==============================] - 0s 556us/step - loss: 31.4557\n",
      "Epoch 282/300\n",
      "22/22 [==============================] - 0s 851us/step - loss: 30.2315\n",
      "Epoch 283/300\n",
      "22/22 [==============================] - 0s 662us/step - loss: 29.5599\n",
      "Epoch 284/300\n",
      "22/22 [==============================] - 0s 565us/step - loss: 28.9046\n",
      "Epoch 285/300\n",
      "22/22 [==============================] - 0s 548us/step - loss: 28.2025\n",
      "Epoch 286/300\n",
      "22/22 [==============================] - 0s 585us/step - loss: 27.6415\n",
      "Epoch 287/300\n",
      "22/22 [==============================] - 0s 594us/step - loss: 27.1900\n",
      "Epoch 288/300\n",
      "22/22 [==============================] - 0s 583us/step - loss: 26.4731\n",
      "Epoch 289/300\n",
      "22/22 [==============================] - 0s 574us/step - loss: 26.5484\n",
      "Epoch 290/300\n",
      "22/22 [==============================] - 0s 577us/step - loss: 26.0807\n",
      "Epoch 291/300\n",
      "22/22 [==============================] - 0s 581us/step - loss: 25.8619\n",
      "Epoch 292/300\n",
      "22/22 [==============================] - 0s 592us/step - loss: 25.5755\n",
      "Epoch 293/300\n",
      "22/22 [==============================] - 0s 581us/step - loss: 25.0365\n",
      "Epoch 294/300\n",
      "22/22 [==============================] - 0s 638us/step - loss: 25.2741\n",
      "Epoch 295/300\n",
      "22/22 [==============================] - 0s 598us/step - loss: 25.0239\n",
      "Epoch 296/300\n",
      "22/22 [==============================] - 0s 547us/step - loss: 24.9029\n",
      "Epoch 297/300\n",
      "22/22 [==============================] - 0s 543us/step - loss: 24.6866\n",
      "Epoch 298/300\n",
      "22/22 [==============================] - 0s 632us/step - loss: 24.7501\n",
      "Epoch 299/300\n",
      "22/22 [==============================] - 0s 662us/step - loss: 24.5834\n",
      "Epoch 300/300\n",
      "22/22 [==============================] - 0s 566us/step - loss: 24.7014\n"
     ]
    },
    {
     "data": {
      "text/plain": [
       "<keras.callbacks.History at 0x7fa2489e1eb0>"
      ]
     },
     "execution_count": 18,
     "metadata": {},
     "output_type": "execute_result"
    }
   ],
   "source": [
    "model.fit(X_train, y_train, epochs=300)"
   ]
  },
  {
   "cell_type": "code",
   "execution_count": 19,
   "id": "0b2e056d-ecca-44cb-bfcc-f2cbe0004fff",
   "metadata": {},
   "outputs": [
    {
     "name": "stdout",
     "output_type": "stream",
     "text": [
      "Model: \"sequential\"\n",
      "_________________________________________________________________\n",
      " Layer (type)                Output Shape              Param #   \n",
      "=================================================================\n",
      " dense (Dense)               (None, 4)                 12        \n",
      "                                                                 \n",
      " dense_1 (Dense)             (None, 4)                 20        \n",
      "                                                                 \n",
      " dense_2 (Dense)             (None, 4)                 20        \n",
      "                                                                 \n",
      " dense_3 (Dense)             (None, 1)                 5         \n",
      "                                                                 \n",
      "=================================================================\n",
      "Total params: 57\n",
      "Trainable params: 57\n",
      "Non-trainable params: 0\n",
      "_________________________________________________________________\n"
     ]
    }
   ],
   "source": [
    "model.summary()"
   ]
  },
  {
   "cell_type": "markdown",
   "id": "011f5265-4f9f-43c5-a0d1-cde5bd37ea26",
   "metadata": {},
   "source": [
    "#### Cost function (loss) "
   ]
  },
  {
   "cell_type": "code",
   "execution_count": 20,
   "id": "738b62d2-de77-4c6e-b66e-abb824207689",
   "metadata": {},
   "outputs": [
    {
     "data": {
      "text/plain": [
       "[<matplotlib.lines.Line2D at 0x7fa2490af370>]"
      ]
     },
     "execution_count": 20,
     "metadata": {},
     "output_type": "execute_result"
    },
    {
     "data": {
      "image/png": "[encoded data removed]",
      "text/plain": [
       "<Figure size 432x288 with 1 Axes>"
      ]
     },
     "metadata": {
      "needs_background": "light"
     },
     "output_type": "display_data"
    }
   ],
   "source": [
    "losses = pd.Series(model.history.history)\n",
    "plt.plot(losses['loss'])"
   ]
  },
  {
   "cell_type": "markdown",
   "id": "ed2d9f61-3812-4b7a-89f7-62ee0633f41f",
   "metadata": {},
   "source": [
    "#### Model Evaluation"
   ]
  },
  {
   "cell_type": "code",
   "execution_count": 21,
   "id": "eeddcbf9-958f-4722-af74-4553d58f211b",
   "metadata": {},
   "outputs": [
    {
     "name": "stdout",
     "output_type": "stream",
     "text": [
      "22/22 [==============================] - 0s 539us/step - loss: 24.6144\n"
     ]
    }
   ],
   "source": [
    "training_score = model.evaluate(X_train,y_train)"
   ]
  },
  {
   "cell_type": "code",
   "execution_count": 22,
   "id": "0a8fa0b1-9c99-48ad-bb92-371e94afc662",
   "metadata": {},
   "outputs": [
    {
     "name": "stdout",
     "output_type": "stream",
     "text": [
      "10/10 [==============================] - 0s 620us/step - loss: 25.4455\n"
     ]
    }
   ],
   "source": [
    "test_score = model.evaluate(X_test,y_test)"
   ]
  },
  {
   "cell_type": "markdown",
   "id": "2ec4e3d6-0ffa-45eb-8fa1-272ba710b5dd",
   "metadata": {},
   "source": [
    "#### Model prediction"
   ]
  },
  {
   "cell_type": "code",
   "execution_count": 23,
   "id": "c7f602d8-e9b7-4876-9b7b-fae6e2003053",
   "metadata": {},
   "outputs": [],
   "source": [
    "y_pred = model.predict(X_test)"
   ]
  },
  {
   "cell_type": "code",
   "execution_count": 24,
   "id": "1fcd5629-2674-4181-992a-10042f50dcff",
   "metadata": {},
   "outputs": [],
   "source": [
    "pred_df = pd.DataFrame(y_test.values,columns=['Test Y'])\n",
    "\n",
    "# y_pred.shape\n",
    "test_prediction = pd.Series(y_pred.reshape(300,))"
   ]
  },
  {
   "cell_type": "code",
   "execution_count": 25,
   "id": "238c648e-56ba-403a-8282-909a679acfe4",
   "metadata": {},
   "outputs": [],
   "source": [
    "pred_df = pd.concat([pred_df,test_prediction], axis=1)\n",
    "pred_df.columns = ['Test Y','Model Predictions']"
   ]
  },
  {
   "cell_type": "code",
   "execution_count": 26,
   "id": "3431530e-b7e2-43fb-b891-0cfc48007c61",
   "metadata": {},
   "outputs": [
    {
     "data": {
      "text/html": [
       "<div>\n",
       "<style scoped>\n",
       "    .dataframe tbody tr th:only-of-type {\n",
       "        vertical-align: middle;\n",
       "    }\n",
       "\n",
       "    .dataframe tbody tr th {\n",
       "        vertical-align: top;\n",
       "    }\n",
       "\n",
       "    .dataframe thead th {\n",
       "        text-align: right;\n",
       "    }\n",
       "</style>\n",
       "<table border=\"1\" class=\"dataframe\">\n",
       "  <thead>\n",
       "    <tr style=\"text-align: right;\">\n",
       "      <th></th>\n",
       "      <th>Test Y</th>\n",
       "      <th>Model Predictions</th>\n",
       "    </tr>\n",
       "  </thead>\n",
       "  <tbody>\n",
       "    <tr>\n",
       "      <th>0</th>\n",
       "      <td>402.296319</td>\n",
       "      <td>405.572784</td>\n",
       "    </tr>\n",
       "    <tr>\n",
       "      <th>1</th>\n",
       "      <td>624.156198</td>\n",
       "      <td>622.506714</td>\n",
       "    </tr>\n",
       "    <tr>\n",
       "      <th>2</th>\n",
       "      <td>582.455066</td>\n",
       "      <td>591.135254</td>\n",
       "    </tr>\n",
       "    <tr>\n",
       "      <th>3</th>\n",
       "      <td>578.588606</td>\n",
       "      <td>571.852112</td>\n",
       "    </tr>\n",
       "    <tr>\n",
       "      <th>4</th>\n",
       "      <td>371.224104</td>\n",
       "      <td>367.801270</td>\n",
       "    </tr>\n",
       "    <tr>\n",
       "      <th>...</th>\n",
       "      <td>...</td>\n",
       "      <td>...</td>\n",
       "    </tr>\n",
       "    <tr>\n",
       "      <th>295</th>\n",
       "      <td>525.704657</td>\n",
       "      <td>528.880188</td>\n",
       "    </tr>\n",
       "    <tr>\n",
       "      <th>296</th>\n",
       "      <td>502.909473</td>\n",
       "      <td>515.770325</td>\n",
       "    </tr>\n",
       "    <tr>\n",
       "      <th>297</th>\n",
       "      <td>612.727910</td>\n",
       "      <td>608.626770</td>\n",
       "    </tr>\n",
       "    <tr>\n",
       "      <th>298</th>\n",
       "      <td>417.569725</td>\n",
       "      <td>416.853607</td>\n",
       "    </tr>\n",
       "    <tr>\n",
       "      <th>299</th>\n",
       "      <td>410.538250</td>\n",
       "      <td>411.381195</td>\n",
       "    </tr>\n",
       "  </tbody>\n",
       "</table>\n",
       "<p>300 rows × 2 columns</p>\n",
       "</div>"
      ],
      "text/plain": [
       "         Test Y  Model Predictions\n",
       "0    402.296319         405.572784\n",
       "1    624.156198         622.506714\n",
       "2    582.455066         591.135254\n",
       "3    578.588606         571.852112\n",
       "4    371.224104         367.801270\n",
       "..          ...                ...\n",
       "295  525.704657         528.880188\n",
       "296  502.909473         515.770325\n",
       "297  612.727910         608.626770\n",
       "298  417.569725         416.853607\n",
       "299  410.538250         411.381195\n",
       "\n",
       "[300 rows x 2 columns]"
      ]
     },
     "execution_count": 26,
     "metadata": {},
     "output_type": "execute_result"
    }
   ],
   "source": [
    "pred_df"
   ]
  },
  {
   "cell_type": "code",
   "execution_count": 30,
   "id": "5aed5fd5-e522-4e95-8256-da38b3088af3",
   "metadata": {},
   "outputs": [
    {
     "data": {
      "text/plain": [
       "<AxesSubplot:xlabel='Test Y', ylabel='Model Predictions'>"
      ]
     },
     "execution_count": 30,
     "metadata": {},
     "output_type": "execute_result"
    },
    {
     "data": {
      "image/png": "[encoded data removed]",
      "text/plain": [
       "<Figure size 432x288 with 1 Axes>"
      ]
     },
     "metadata": {
      "needs_background": "light"
     },
     "output_type": "display_data"
    }
   ],
   "source": [
    "# scatterplot between actual and predicted Y\n",
    "sns.scatterplot(x='Test Y', y='Model Predictions', data=pred_df)"
   ]
  },
  {
   "cell_type": "markdown",
   "id": "756f2d08-5423-4d04-a222-36b79716c427",
   "metadata": {},
   "source": [
    "#### Error between actual and predicted "
   ]
  },
  {
   "cell_type": "code",
   "execution_count": 31,
   "id": "0b31b0ab-77df-4811-aaa6-b2831cc262c7",
   "metadata": {},
   "outputs": [],
   "source": [
    "from sklearn.metrics import mean_squared_error, mean_absolute_error"
   ]
  },
  {
   "cell_type": "code",
   "execution_count": 35,
   "id": "64e629a8-80a4-427c-bb54-865a28810725",
   "metadata": {},
   "outputs": [
    {
     "data": {
      "text/plain": [
       "25.445550021325623"
      ]
     },
     "execution_count": 35,
     "metadata": {},
     "output_type": "execute_result"
    }
   ],
   "source": [
    "error = mean_squared_error(pred_df['Test Y'],pred_df['Model Predictions'])\n",
    "error"
   ]
  },
  {
   "cell_type": "code",
   "execution_count": 36,
   "id": "aace8ca6-a0f3-41c8-8b5a-a8f8f81d7fdb",
   "metadata": {},
   "outputs": [
    {
     "data": {
      "text/plain": [
       "4.07048846125964"
      ]
     },
     "execution_count": 36,
     "metadata": {},
     "output_type": "execute_result"
    }
   ],
   "source": [
    "error = mean_absolute_error(pred_df['Test Y'],pred_df['Model Predictions'])\n",
    "error"
   ]
  },
  {
   "cell_type": "code",
   "execution_count": 38,
   "id": "b17d9e2f-fbbd-4e4f-9468-a8210aece092",
   "metadata": {},
   "outputs": [
    {
     "name": "stderr",
     "output_type": "stream",
     "text": [
      "/opt/anaconda3/lib/python3.9/site-packages/seaborn/distributions.py:2619: FutureWarning: `distplot` is a deprecated function and will be removed in a future version. Please adapt your code to use either `displot` (a figure-level function with similar flexibility) or `histplot` (an axes-level function for histograms).\n",
      "  warnings.warn(msg, FutureWarning)\n"
     ]
    },
    {
     "data": {
      "text/plain": [
       "<AxesSubplot:ylabel='Density'>"
      ]
     },
     "execution_count": 38,
     "metadata": {},
     "output_type": "execute_result"
    },
    {
     "data": {
      "image/png": "[encoded data removed]",
      "text/plain": [
       "<Figure size 432x288 with 1 Axes>"
      ]
     },
     "metadata": {
      "needs_background": "light"
     },
     "output_type": "display_data"
    }
   ],
   "source": [
    "diff = pred_df['Test Y'] - pred_df['Model Predictions']\n",
    "sns.distplot(diff)"
   ]
  },
  {
   "cell_type": "code",
   "execution_count": null,
   "id": "8251c102-395e-4070-89a6-fae986818a17",
   "metadata": {},
   "outputs": [],
   "source": []
  }
 ],
 "metadata": {
  "kernelspec": {
   "display_name": "Python 3 (ipykernel)",
   "language": "python",
   "name": "python3"
  },
  "language_info": {
   "codemirror_mode": {
    "name": "ipython",
    "version": 3
   },
   "file_extension": ".py",
   "mimetype": "text/x-python",
   "name": "python",
   "nbconvert_exporter": "python",
   "pygments_lexer": "ipython3",
   "version": "3.9.7"
  }
 },
 "nbformat": 4,
 "nbformat_minor": 5
}
